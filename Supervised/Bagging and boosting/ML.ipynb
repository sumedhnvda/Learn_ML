{
 "cells": [
  {
   "cell_type": "code",
   "execution_count": 2,
   "id": "4157ba3b",
   "metadata": {},
   "outputs": [],
   "source": [
    "import pandas as pd\n",
    "import numpy as np\n",
    "import matplotlib.pyplot as plt\n",
    "import seaborn as sns"
   ]
  },
  {
   "cell_type": "code",
   "execution_count": 3,
   "id": "64c26e43",
   "metadata": {},
   "outputs": [],
   "source": [
    "df=pd.read_csv(\"Travel.csv\")"
   ]
  },
  {
   "cell_type": "code",
   "execution_count": 4,
   "id": "4dce0e98",
   "metadata": {},
   "outputs": [
    {
     "data": {
      "text/html": [
       "<div>\n",
       "<style scoped>\n",
       "    .dataframe tbody tr th:only-of-type {\n",
       "        vertical-align: middle;\n",
       "    }\n",
       "\n",
       "    .dataframe tbody tr th {\n",
       "        vertical-align: top;\n",
       "    }\n",
       "\n",
       "    .dataframe thead th {\n",
       "        text-align: right;\n",
       "    }\n",
       "</style>\n",
       "<table border=\"1\" class=\"dataframe\">\n",
       "  <thead>\n",
       "    <tr style=\"text-align: right;\">\n",
       "      <th></th>\n",
       "      <th>CustomerID</th>\n",
       "      <th>ProdTaken</th>\n",
       "      <th>Age</th>\n",
       "      <th>TypeofContact</th>\n",
       "      <th>CityTier</th>\n",
       "      <th>DurationOfPitch</th>\n",
       "      <th>Occupation</th>\n",
       "      <th>Gender</th>\n",
       "      <th>NumberOfPersonVisiting</th>\n",
       "      <th>NumberOfFollowups</th>\n",
       "      <th>ProductPitched</th>\n",
       "      <th>PreferredPropertyStar</th>\n",
       "      <th>MaritalStatus</th>\n",
       "      <th>NumberOfTrips</th>\n",
       "      <th>Passport</th>\n",
       "      <th>PitchSatisfactionScore</th>\n",
       "      <th>OwnCar</th>\n",
       "      <th>NumberOfChildrenVisiting</th>\n",
       "      <th>Designation</th>\n",
       "      <th>MonthlyIncome</th>\n",
       "    </tr>\n",
       "  </thead>\n",
       "  <tbody>\n",
       "    <tr>\n",
       "      <th>0</th>\n",
       "      <td>200000</td>\n",
       "      <td>1</td>\n",
       "      <td>41.0</td>\n",
       "      <td>Self Enquiry</td>\n",
       "      <td>3</td>\n",
       "      <td>6.0</td>\n",
       "      <td>Salaried</td>\n",
       "      <td>Female</td>\n",
       "      <td>3</td>\n",
       "      <td>3.0</td>\n",
       "      <td>Deluxe</td>\n",
       "      <td>3.0</td>\n",
       "      <td>Single</td>\n",
       "      <td>1.0</td>\n",
       "      <td>1</td>\n",
       "      <td>2</td>\n",
       "      <td>1</td>\n",
       "      <td>0.0</td>\n",
       "      <td>Manager</td>\n",
       "      <td>20993.0</td>\n",
       "    </tr>\n",
       "    <tr>\n",
       "      <th>1</th>\n",
       "      <td>200001</td>\n",
       "      <td>0</td>\n",
       "      <td>49.0</td>\n",
       "      <td>Company Invited</td>\n",
       "      <td>1</td>\n",
       "      <td>14.0</td>\n",
       "      <td>Salaried</td>\n",
       "      <td>Male</td>\n",
       "      <td>3</td>\n",
       "      <td>4.0</td>\n",
       "      <td>Deluxe</td>\n",
       "      <td>4.0</td>\n",
       "      <td>Divorced</td>\n",
       "      <td>2.0</td>\n",
       "      <td>0</td>\n",
       "      <td>3</td>\n",
       "      <td>1</td>\n",
       "      <td>2.0</td>\n",
       "      <td>Manager</td>\n",
       "      <td>20130.0</td>\n",
       "    </tr>\n",
       "    <tr>\n",
       "      <th>2</th>\n",
       "      <td>200002</td>\n",
       "      <td>1</td>\n",
       "      <td>37.0</td>\n",
       "      <td>Self Enquiry</td>\n",
       "      <td>1</td>\n",
       "      <td>8.0</td>\n",
       "      <td>Free Lancer</td>\n",
       "      <td>Male</td>\n",
       "      <td>3</td>\n",
       "      <td>4.0</td>\n",
       "      <td>Basic</td>\n",
       "      <td>3.0</td>\n",
       "      <td>Single</td>\n",
       "      <td>7.0</td>\n",
       "      <td>1</td>\n",
       "      <td>3</td>\n",
       "      <td>0</td>\n",
       "      <td>0.0</td>\n",
       "      <td>Executive</td>\n",
       "      <td>17090.0</td>\n",
       "    </tr>\n",
       "    <tr>\n",
       "      <th>3</th>\n",
       "      <td>200003</td>\n",
       "      <td>0</td>\n",
       "      <td>33.0</td>\n",
       "      <td>Company Invited</td>\n",
       "      <td>1</td>\n",
       "      <td>9.0</td>\n",
       "      <td>Salaried</td>\n",
       "      <td>Female</td>\n",
       "      <td>2</td>\n",
       "      <td>3.0</td>\n",
       "      <td>Basic</td>\n",
       "      <td>3.0</td>\n",
       "      <td>Divorced</td>\n",
       "      <td>2.0</td>\n",
       "      <td>1</td>\n",
       "      <td>5</td>\n",
       "      <td>1</td>\n",
       "      <td>1.0</td>\n",
       "      <td>Executive</td>\n",
       "      <td>17909.0</td>\n",
       "    </tr>\n",
       "    <tr>\n",
       "      <th>4</th>\n",
       "      <td>200004</td>\n",
       "      <td>0</td>\n",
       "      <td>NaN</td>\n",
       "      <td>Self Enquiry</td>\n",
       "      <td>1</td>\n",
       "      <td>8.0</td>\n",
       "      <td>Small Business</td>\n",
       "      <td>Male</td>\n",
       "      <td>2</td>\n",
       "      <td>3.0</td>\n",
       "      <td>Basic</td>\n",
       "      <td>4.0</td>\n",
       "      <td>Divorced</td>\n",
       "      <td>1.0</td>\n",
       "      <td>0</td>\n",
       "      <td>5</td>\n",
       "      <td>1</td>\n",
       "      <td>0.0</td>\n",
       "      <td>Executive</td>\n",
       "      <td>18468.0</td>\n",
       "    </tr>\n",
       "  </tbody>\n",
       "</table>\n",
       "</div>"
      ],
      "text/plain": [
       "   CustomerID  ProdTaken   Age    TypeofContact  CityTier  DurationOfPitch  \\\n",
       "0      200000          1  41.0     Self Enquiry         3              6.0   \n",
       "1      200001          0  49.0  Company Invited         1             14.0   \n",
       "2      200002          1  37.0     Self Enquiry         1              8.0   \n",
       "3      200003          0  33.0  Company Invited         1              9.0   \n",
       "4      200004          0   NaN     Self Enquiry         1              8.0   \n",
       "\n",
       "       Occupation  Gender  NumberOfPersonVisiting  NumberOfFollowups  \\\n",
       "0        Salaried  Female                       3                3.0   \n",
       "1        Salaried    Male                       3                4.0   \n",
       "2     Free Lancer    Male                       3                4.0   \n",
       "3        Salaried  Female                       2                3.0   \n",
       "4  Small Business    Male                       2                3.0   \n",
       "\n",
       "  ProductPitched  PreferredPropertyStar MaritalStatus  NumberOfTrips  \\\n",
       "0         Deluxe                    3.0        Single            1.0   \n",
       "1         Deluxe                    4.0      Divorced            2.0   \n",
       "2          Basic                    3.0        Single            7.0   \n",
       "3          Basic                    3.0      Divorced            2.0   \n",
       "4          Basic                    4.0      Divorced            1.0   \n",
       "\n",
       "   Passport  PitchSatisfactionScore  OwnCar  NumberOfChildrenVisiting  \\\n",
       "0         1                       2       1                       0.0   \n",
       "1         0                       3       1                       2.0   \n",
       "2         1                       3       0                       0.0   \n",
       "3         1                       5       1                       1.0   \n",
       "4         0                       5       1                       0.0   \n",
       "\n",
       "  Designation  MonthlyIncome  \n",
       "0     Manager        20993.0  \n",
       "1     Manager        20130.0  \n",
       "2   Executive        17090.0  \n",
       "3   Executive        17909.0  \n",
       "4   Executive        18468.0  "
      ]
     },
     "execution_count": 4,
     "metadata": {},
     "output_type": "execute_result"
    }
   ],
   "source": [
    "df.head()"
   ]
  },
  {
   "cell_type": "code",
   "execution_count": 5,
   "id": "00578cd9",
   "metadata": {},
   "outputs": [
    {
     "data": {
      "text/plain": [
       "CustomerID                    0\n",
       "ProdTaken                     0\n",
       "Age                         226\n",
       "TypeofContact                25\n",
       "CityTier                      0\n",
       "DurationOfPitch             251\n",
       "Occupation                    0\n",
       "Gender                        0\n",
       "NumberOfPersonVisiting        0\n",
       "NumberOfFollowups            45\n",
       "ProductPitched                0\n",
       "PreferredPropertyStar        26\n",
       "MaritalStatus                 0\n",
       "NumberOfTrips               140\n",
       "Passport                      0\n",
       "PitchSatisfactionScore        0\n",
       "OwnCar                        0\n",
       "NumberOfChildrenVisiting     66\n",
       "Designation                   0\n",
       "MonthlyIncome               233\n",
       "dtype: int64"
      ]
     },
     "execution_count": 5,
     "metadata": {},
     "output_type": "execute_result"
    }
   ],
   "source": [
    "df.isnull().sum()"
   ]
  },
  {
   "cell_type": "code",
   "execution_count": 6,
   "id": "bad1b4e5",
   "metadata": {},
   "outputs": [
    {
     "name": "stdout",
     "output_type": "stream",
     "text": [
      "<class 'pandas.core.frame.DataFrame'>\n",
      "RangeIndex: 4888 entries, 0 to 4887\n",
      "Data columns (total 20 columns):\n",
      " #   Column                    Non-Null Count  Dtype  \n",
      "---  ------                    --------------  -----  \n",
      " 0   CustomerID                4888 non-null   int64  \n",
      " 1   ProdTaken                 4888 non-null   int64  \n",
      " 2   Age                       4662 non-null   float64\n",
      " 3   TypeofContact             4863 non-null   object \n",
      " 4   CityTier                  4888 non-null   int64  \n",
      " 5   DurationOfPitch           4637 non-null   float64\n",
      " 6   Occupation                4888 non-null   object \n",
      " 7   Gender                    4888 non-null   object \n",
      " 8   NumberOfPersonVisiting    4888 non-null   int64  \n",
      " 9   NumberOfFollowups         4843 non-null   float64\n",
      " 10  ProductPitched            4888 non-null   object \n",
      " 11  PreferredPropertyStar     4862 non-null   float64\n",
      " 12  MaritalStatus             4888 non-null   object \n",
      " 13  NumberOfTrips             4748 non-null   float64\n",
      " 14  Passport                  4888 non-null   int64  \n",
      " 15  PitchSatisfactionScore    4888 non-null   int64  \n",
      " 16  OwnCar                    4888 non-null   int64  \n",
      " 17  NumberOfChildrenVisiting  4822 non-null   float64\n",
      " 18  Designation               4888 non-null   object \n",
      " 19  MonthlyIncome             4655 non-null   float64\n",
      "dtypes: float64(7), int64(7), object(6)\n",
      "memory usage: 763.9+ KB\n"
     ]
    }
   ],
   "source": [
    "df.info()\n"
   ]
  },
  {
   "cell_type": "code",
   "execution_count": 7,
   "id": "a2e326b5",
   "metadata": {},
   "outputs": [
    {
     "data": {
      "text/plain": [
       "TypeofContact\n",
       "Self Enquiry       3444\n",
       "Company Invited    1419\n",
       "Name: count, dtype: int64"
      ]
     },
     "execution_count": 7,
     "metadata": {},
     "output_type": "execute_result"
    }
   ],
   "source": [
    "df[\"TypeofContact\"].value_counts()"
   ]
  },
  {
   "cell_type": "code",
   "execution_count": 8,
   "id": "e5011d4d",
   "metadata": {},
   "outputs": [
    {
     "data": {
      "text/plain": [
       "Occupation\n",
       "Salaried          2368\n",
       "Small Business    2084\n",
       "Large Business     434\n",
       "Free Lancer          2\n",
       "Name: count, dtype: int64"
      ]
     },
     "execution_count": 8,
     "metadata": {},
     "output_type": "execute_result"
    }
   ],
   "source": [
    "df[\"Occupation\"].value_counts()"
   ]
  },
  {
   "cell_type": "code",
   "execution_count": 9,
   "id": "be5043d7",
   "metadata": {},
   "outputs": [
    {
     "data": {
      "text/plain": [
       "Gender\n",
       "Male       2916\n",
       "Female     1817\n",
       "Fe Male     155\n",
       "Name: count, dtype: int64"
      ]
     },
     "execution_count": 9,
     "metadata": {},
     "output_type": "execute_result"
    }
   ],
   "source": [
    "df[\"Gender\"].value_counts()"
   ]
  },
  {
   "cell_type": "code",
   "execution_count": 10,
   "id": "e9200ff0",
   "metadata": {},
   "outputs": [],
   "source": [
    "df[\"Gender\"] = df[\"Gender\"].replace(\"Fe Male\", \"Female\")"
   ]
  },
  {
   "cell_type": "code",
   "execution_count": 11,
   "id": "fdd1da44",
   "metadata": {},
   "outputs": [
    {
     "data": {
      "text/plain": [
       "Gender\n",
       "Male      2916\n",
       "Female    1972\n",
       "Name: count, dtype: int64"
      ]
     },
     "execution_count": 11,
     "metadata": {},
     "output_type": "execute_result"
    }
   ],
   "source": [
    "df[\"Gender\"].value_counts()"
   ]
  },
  {
   "cell_type": "code",
   "execution_count": 12,
   "id": "1530ebde",
   "metadata": {},
   "outputs": [
    {
     "data": {
      "text/plain": [
       "MaritalStatus\n",
       "Married      2340\n",
       "Divorced      950\n",
       "Single        916\n",
       "Unmarried     682\n",
       "Name: count, dtype: int64"
      ]
     },
     "execution_count": 12,
     "metadata": {},
     "output_type": "execute_result"
    }
   ],
   "source": [
    "df[\"MaritalStatus\"].value_counts()"
   ]
  },
  {
   "cell_type": "code",
   "execution_count": 13,
   "id": "e89b96c7",
   "metadata": {},
   "outputs": [],
   "source": [
    "df[\"MaritalStatus\"]=df[\"MaritalStatus\"].replace(\"Single\", \"Unmarried\")"
   ]
  },
  {
   "cell_type": "code",
   "execution_count": 14,
   "id": "b405d782",
   "metadata": {},
   "outputs": [
    {
     "data": {
      "text/plain": [
       "MaritalStatus\n",
       "Married      2340\n",
       "Unmarried    1598\n",
       "Divorced      950\n",
       "Name: count, dtype: int64"
      ]
     },
     "execution_count": 14,
     "metadata": {},
     "output_type": "execute_result"
    }
   ],
   "source": [
    "df[\"MaritalStatus\"].value_counts()"
   ]
  },
  {
   "cell_type": "code",
   "execution_count": 15,
   "id": "32fbf8e1",
   "metadata": {},
   "outputs": [
    {
     "data": {
      "text/plain": [
       "Designation\n",
       "Executive         1842\n",
       "Manager           1732\n",
       "Senior Manager     742\n",
       "AVP                342\n",
       "VP                 230\n",
       "Name: count, dtype: int64"
      ]
     },
     "execution_count": 15,
     "metadata": {},
     "output_type": "execute_result"
    }
   ],
   "source": [
    "df[\"Designation\"].value_counts()"
   ]
  },
  {
   "cell_type": "code",
   "execution_count": 16,
   "id": "866b8b58",
   "metadata": {},
   "outputs": [
    {
     "data": {
      "text/plain": [
       "CustomerID                    0\n",
       "ProdTaken                     0\n",
       "Age                         226\n",
       "TypeofContact                25\n",
       "CityTier                      0\n",
       "DurationOfPitch             251\n",
       "Occupation                    0\n",
       "Gender                        0\n",
       "NumberOfPersonVisiting        0\n",
       "NumberOfFollowups            45\n",
       "ProductPitched                0\n",
       "PreferredPropertyStar        26\n",
       "MaritalStatus                 0\n",
       "NumberOfTrips               140\n",
       "Passport                      0\n",
       "PitchSatisfactionScore        0\n",
       "OwnCar                        0\n",
       "NumberOfChildrenVisiting     66\n",
       "Designation                   0\n",
       "MonthlyIncome               233\n",
       "dtype: int64"
      ]
     },
     "execution_count": 16,
     "metadata": {},
     "output_type": "execute_result"
    }
   ],
   "source": [
    "df.isnull().sum()"
   ]
  },
  {
   "cell_type": "code",
   "execution_count": 17,
   "id": "376f09c2",
   "metadata": {},
   "outputs": [],
   "source": [
    "medianAge=df[\"Age\"].median()\n",
    "df[\"Age\"]=df[\"Age\"].fillna(medianAge)"
   ]
  },
  {
   "cell_type": "code",
   "execution_count": 18,
   "id": "4c54aa47",
   "metadata": {},
   "outputs": [],
   "source": [
    "modeToc = df[\"TypeofContact\"].mode()[0]\n",
    "df[\"TypeofContact\"]=df[\"TypeofContact\"].fillna(modeToc)\n"
   ]
  },
  {
   "cell_type": "code",
   "execution_count": 19,
   "id": "73eb166a",
   "metadata": {},
   "outputs": [],
   "source": [
    "df[\"DurationOfPitch\"]=df[\"DurationOfPitch\"].fillna(df[\"DurationOfPitch\"].median())"
   ]
  },
  {
   "cell_type": "code",
   "execution_count": 20,
   "id": "552c9a59",
   "metadata": {},
   "outputs": [],
   "source": [
    "df[\"NumberOfFollowups\"]=df[\"NumberOfFollowups\"].fillna(df[\"NumberOfFollowups\"].median())"
   ]
  },
  {
   "cell_type": "code",
   "execution_count": 21,
   "id": "ef3a6c3d",
   "metadata": {},
   "outputs": [],
   "source": [
    "df[\"PreferredPropertyStar\"]=df[\"PreferredPropertyStar\"].fillna(df[\"PreferredPropertyStar\"].median())"
   ]
  },
  {
   "cell_type": "code",
   "execution_count": 22,
   "id": "6c91a4df",
   "metadata": {},
   "outputs": [],
   "source": [
    "df[\"NumberOfTrips\"]=df[\"NumberOfTrips\"].fillna(df[\"NumberOfTrips\"].median())"
   ]
  },
  {
   "cell_type": "code",
   "execution_count": 23,
   "id": "bc5077d9",
   "metadata": {},
   "outputs": [],
   "source": [
    "df[\"NumberOfChildrenVisiting\"]=df[\"NumberOfChildrenVisiting\"].fillna(df[\"NumberOfChildrenVisiting\"].median())"
   ]
  },
  {
   "cell_type": "code",
   "execution_count": 24,
   "id": "41b2b8df",
   "metadata": {},
   "outputs": [],
   "source": [
    "df[\"MonthlyIncome\"]=df[\"MonthlyIncome\"].fillna(df[\"MonthlyIncome\"].median())"
   ]
  },
  {
   "cell_type": "code",
   "execution_count": 25,
   "id": "38687d09",
   "metadata": {},
   "outputs": [
    {
     "data": {
      "text/plain": [
       "CustomerID                  0\n",
       "ProdTaken                   0\n",
       "Age                         0\n",
       "TypeofContact               0\n",
       "CityTier                    0\n",
       "DurationOfPitch             0\n",
       "Occupation                  0\n",
       "Gender                      0\n",
       "NumberOfPersonVisiting      0\n",
       "NumberOfFollowups           0\n",
       "ProductPitched              0\n",
       "PreferredPropertyStar       0\n",
       "MaritalStatus               0\n",
       "NumberOfTrips               0\n",
       "Passport                    0\n",
       "PitchSatisfactionScore      0\n",
       "OwnCar                      0\n",
       "NumberOfChildrenVisiting    0\n",
       "Designation                 0\n",
       "MonthlyIncome               0\n",
       "dtype: int64"
      ]
     },
     "execution_count": 25,
     "metadata": {},
     "output_type": "execute_result"
    }
   ],
   "source": [
    "df.isnull().sum()"
   ]
  },
  {
   "cell_type": "code",
   "execution_count": 26,
   "id": "160177b2",
   "metadata": {},
   "outputs": [],
   "source": [
    "df.drop(\"CustomerID\",inplace=True,axis=1)"
   ]
  },
  {
   "cell_type": "code",
   "execution_count": 27,
   "id": "d078cb3b",
   "metadata": {},
   "outputs": [],
   "source": [
    "df[\"Totalvisit\"]=df[\"NumberOfPersonVisiting\"]+df[\"NumberOfChildrenVisiting\"]"
   ]
  },
  {
   "cell_type": "code",
   "execution_count": 28,
   "id": "61a18d38",
   "metadata": {},
   "outputs": [],
   "source": [
    "df.drop(columns=['NumberOfPersonVisiting','NumberOfChildrenVisiting'],inplace=True,axis=1)"
   ]
  },
  {
   "cell_type": "code",
   "execution_count": 29,
   "id": "372ed342",
   "metadata": {},
   "outputs": [
    {
     "data": {
      "text/html": [
       "<div>\n",
       "<style scoped>\n",
       "    .dataframe tbody tr th:only-of-type {\n",
       "        vertical-align: middle;\n",
       "    }\n",
       "\n",
       "    .dataframe tbody tr th {\n",
       "        vertical-align: top;\n",
       "    }\n",
       "\n",
       "    .dataframe thead th {\n",
       "        text-align: right;\n",
       "    }\n",
       "</style>\n",
       "<table border=\"1\" class=\"dataframe\">\n",
       "  <thead>\n",
       "    <tr style=\"text-align: right;\">\n",
       "      <th></th>\n",
       "      <th>ProdTaken</th>\n",
       "      <th>Age</th>\n",
       "      <th>TypeofContact</th>\n",
       "      <th>CityTier</th>\n",
       "      <th>DurationOfPitch</th>\n",
       "      <th>Occupation</th>\n",
       "      <th>Gender</th>\n",
       "      <th>NumberOfFollowups</th>\n",
       "      <th>ProductPitched</th>\n",
       "      <th>PreferredPropertyStar</th>\n",
       "      <th>MaritalStatus</th>\n",
       "      <th>NumberOfTrips</th>\n",
       "      <th>Passport</th>\n",
       "      <th>PitchSatisfactionScore</th>\n",
       "      <th>OwnCar</th>\n",
       "      <th>Designation</th>\n",
       "      <th>MonthlyIncome</th>\n",
       "      <th>Totalvisit</th>\n",
       "    </tr>\n",
       "  </thead>\n",
       "  <tbody>\n",
       "    <tr>\n",
       "      <th>0</th>\n",
       "      <td>1</td>\n",
       "      <td>41.0</td>\n",
       "      <td>Self Enquiry</td>\n",
       "      <td>3</td>\n",
       "      <td>6.0</td>\n",
       "      <td>Salaried</td>\n",
       "      <td>Female</td>\n",
       "      <td>3.0</td>\n",
       "      <td>Deluxe</td>\n",
       "      <td>3.0</td>\n",
       "      <td>Unmarried</td>\n",
       "      <td>1.0</td>\n",
       "      <td>1</td>\n",
       "      <td>2</td>\n",
       "      <td>1</td>\n",
       "      <td>Manager</td>\n",
       "      <td>20993.0</td>\n",
       "      <td>3.0</td>\n",
       "    </tr>\n",
       "    <tr>\n",
       "      <th>1</th>\n",
       "      <td>0</td>\n",
       "      <td>49.0</td>\n",
       "      <td>Company Invited</td>\n",
       "      <td>1</td>\n",
       "      <td>14.0</td>\n",
       "      <td>Salaried</td>\n",
       "      <td>Male</td>\n",
       "      <td>4.0</td>\n",
       "      <td>Deluxe</td>\n",
       "      <td>4.0</td>\n",
       "      <td>Divorced</td>\n",
       "      <td>2.0</td>\n",
       "      <td>0</td>\n",
       "      <td>3</td>\n",
       "      <td>1</td>\n",
       "      <td>Manager</td>\n",
       "      <td>20130.0</td>\n",
       "      <td>5.0</td>\n",
       "    </tr>\n",
       "    <tr>\n",
       "      <th>2</th>\n",
       "      <td>1</td>\n",
       "      <td>37.0</td>\n",
       "      <td>Self Enquiry</td>\n",
       "      <td>1</td>\n",
       "      <td>8.0</td>\n",
       "      <td>Free Lancer</td>\n",
       "      <td>Male</td>\n",
       "      <td>4.0</td>\n",
       "      <td>Basic</td>\n",
       "      <td>3.0</td>\n",
       "      <td>Unmarried</td>\n",
       "      <td>7.0</td>\n",
       "      <td>1</td>\n",
       "      <td>3</td>\n",
       "      <td>0</td>\n",
       "      <td>Executive</td>\n",
       "      <td>17090.0</td>\n",
       "      <td>3.0</td>\n",
       "    </tr>\n",
       "    <tr>\n",
       "      <th>3</th>\n",
       "      <td>0</td>\n",
       "      <td>33.0</td>\n",
       "      <td>Company Invited</td>\n",
       "      <td>1</td>\n",
       "      <td>9.0</td>\n",
       "      <td>Salaried</td>\n",
       "      <td>Female</td>\n",
       "      <td>3.0</td>\n",
       "      <td>Basic</td>\n",
       "      <td>3.0</td>\n",
       "      <td>Divorced</td>\n",
       "      <td>2.0</td>\n",
       "      <td>1</td>\n",
       "      <td>5</td>\n",
       "      <td>1</td>\n",
       "      <td>Executive</td>\n",
       "      <td>17909.0</td>\n",
       "      <td>3.0</td>\n",
       "    </tr>\n",
       "    <tr>\n",
       "      <th>4</th>\n",
       "      <td>0</td>\n",
       "      <td>36.0</td>\n",
       "      <td>Self Enquiry</td>\n",
       "      <td>1</td>\n",
       "      <td>8.0</td>\n",
       "      <td>Small Business</td>\n",
       "      <td>Male</td>\n",
       "      <td>3.0</td>\n",
       "      <td>Basic</td>\n",
       "      <td>4.0</td>\n",
       "      <td>Divorced</td>\n",
       "      <td>1.0</td>\n",
       "      <td>0</td>\n",
       "      <td>5</td>\n",
       "      <td>1</td>\n",
       "      <td>Executive</td>\n",
       "      <td>18468.0</td>\n",
       "      <td>2.0</td>\n",
       "    </tr>\n",
       "  </tbody>\n",
       "</table>\n",
       "</div>"
      ],
      "text/plain": [
       "   ProdTaken   Age    TypeofContact  CityTier  DurationOfPitch  \\\n",
       "0          1  41.0     Self Enquiry         3              6.0   \n",
       "1          0  49.0  Company Invited         1             14.0   \n",
       "2          1  37.0     Self Enquiry         1              8.0   \n",
       "3          0  33.0  Company Invited         1              9.0   \n",
       "4          0  36.0     Self Enquiry         1              8.0   \n",
       "\n",
       "       Occupation  Gender  NumberOfFollowups ProductPitched  \\\n",
       "0        Salaried  Female                3.0         Deluxe   \n",
       "1        Salaried    Male                4.0         Deluxe   \n",
       "2     Free Lancer    Male                4.0          Basic   \n",
       "3        Salaried  Female                3.0          Basic   \n",
       "4  Small Business    Male                3.0          Basic   \n",
       "\n",
       "   PreferredPropertyStar MaritalStatus  NumberOfTrips  Passport  \\\n",
       "0                    3.0     Unmarried            1.0         1   \n",
       "1                    4.0      Divorced            2.0         0   \n",
       "2                    3.0     Unmarried            7.0         1   \n",
       "3                    3.0      Divorced            2.0         1   \n",
       "4                    4.0      Divorced            1.0         0   \n",
       "\n",
       "   PitchSatisfactionScore  OwnCar Designation  MonthlyIncome  Totalvisit  \n",
       "0                       2       1     Manager        20993.0         3.0  \n",
       "1                       3       1     Manager        20130.0         5.0  \n",
       "2                       3       0   Executive        17090.0         3.0  \n",
       "3                       5       1   Executive        17909.0         3.0  \n",
       "4                       5       1   Executive        18468.0         2.0  "
      ]
     },
     "execution_count": 29,
     "metadata": {},
     "output_type": "execute_result"
    }
   ],
   "source": [
    "df.head()"
   ]
  },
  {
   "cell_type": "code",
   "execution_count": 30,
   "id": "2c2b9cd3",
   "metadata": {},
   "outputs": [],
   "source": [
    "X=df.drop([\"ProdTaken\"],axis=1)"
   ]
  },
  {
   "cell_type": "code",
   "execution_count": 31,
   "id": "d3c31286",
   "metadata": {},
   "outputs": [],
   "source": [
    "Y=df[\"ProdTaken\"]"
   ]
  },
  {
   "cell_type": "code",
   "execution_count": 32,
   "id": "3f30e5f1",
   "metadata": {},
   "outputs": [],
   "source": [
    "from sklearn.model_selection import train_test_split \n",
    "X_train,X_test,Y_train,Y_test=train_test_split(X,Y,test_size=0.2,random_state=42)"
   ]
  },
  {
   "cell_type": "code",
   "execution_count": 33,
   "id": "291b801a",
   "metadata": {},
   "outputs": [],
   "source": [
    "catogorical_feat=X.select_dtypes(include=\"object\").columns"
   ]
  },
  {
   "cell_type": "code",
   "execution_count": 34,
   "id": "a696e930",
   "metadata": {},
   "outputs": [],
   "source": [
    "numeric_feat=X.select_dtypes(exclude=\"object\").columns"
   ]
  },
  {
   "cell_type": "code",
   "execution_count": 35,
   "id": "86e5dc79",
   "metadata": {},
   "outputs": [],
   "source": [
    "from sklearn.preprocessing import OneHotEncoder,StandardScaler\n",
    "from sklearn.compose import ColumnTransformer"
   ]
  },
  {
   "cell_type": "code",
   "execution_count": 36,
   "id": "a303dbe3",
   "metadata": {},
   "outputs": [],
   "source": [
    "StandardScaler=StandardScaler()\n",
    "OneHotEncoder=OneHotEncoder(drop=\"first\")"
   ]
  },
  {
   "cell_type": "code",
   "execution_count": 37,
   "id": "df68f233",
   "metadata": {},
   "outputs": [],
   "source": [
    "preprocess=ColumnTransformer([\n",
    "    (\"OneHotEncoder\",OneHotEncoder,catogorical_feat),\n",
    "    (\"StandardScaler\",StandardScaler,numeric_feat)\n",
    "])"
   ]
  },
  {
   "cell_type": "code",
   "execution_count": 38,
   "id": "1552488a",
   "metadata": {},
   "outputs": [],
   "source": [
    "X_train=preprocess.fit_transform(X_train)"
   ]
  },
  {
   "cell_type": "code",
   "execution_count": 39,
   "id": "cd9d04a3",
   "metadata": {},
   "outputs": [],
   "source": [
    "X_test=preprocess.transform(X_test)"
   ]
  },
  {
   "cell_type": "code",
   "execution_count": 54,
   "id": "a6061f63",
   "metadata": {},
   "outputs": [],
   "source": [
    "from sklearn.ensemble import RandomForestClassifier,AdaBoostClassifier,GradientBoostingClassifier"
   ]
  },
  {
   "cell_type": "code",
   "execution_count": 46,
   "id": "854094e6",
   "metadata": {},
   "outputs": [],
   "source": [
    "from sklearn.metrics import accuracy_score,confusion_matrix,classification_report"
   ]
  },
  {
   "cell_type": "code",
   "execution_count": 58,
   "id": "bca5a492",
   "metadata": {},
   "outputs": [
    {
     "name": "stdout",
     "output_type": "stream",
     "text": [
      "Collecting xgboost\n",
      "  Downloading xgboost-3.0.4-py3-none-win_amd64.whl.metadata (2.1 kB)\n",
      "Requirement already satisfied: numpy in c:\\users\\sumed\\anaconda3\\envs\\ml_class\\lib\\site-packages (from xgboost) (2.2.6)\n",
      "Requirement already satisfied: scipy in c:\\users\\sumed\\anaconda3\\envs\\ml_class\\lib\\site-packages (from xgboost) (1.15.3)\n",
      "Downloading xgboost-3.0.4-py3-none-win_amd64.whl (56.8 MB)\n",
      "   ---------------------------------------- 0.0/56.8 MB ? eta -:--:--\n",
      "   ---------------------------------------- 0.0/56.8 MB ? eta -:--:--\n",
      "   ---------------------------------------- 0.3/56.8 MB ? eta -:--:--\n",
      "   ---------------------------------------- 0.5/56.8 MB 1.1 MB/s eta 0:00:51\n",
      "    --------------------------------------- 0.8/56.8 MB 1.2 MB/s eta 0:00:47\n",
      "    --------------------------------------- 1.0/56.8 MB 1.3 MB/s eta 0:00:43\n",
      "    --------------------------------------- 1.3/56.8 MB 1.3 MB/s eta 0:00:44\n",
      "   - -------------------------------------- 1.6/56.8 MB 1.3 MB/s eta 0:00:45\n",
      "   - -------------------------------------- 1.6/56.8 MB 1.3 MB/s eta 0:00:45\n",
      "   - -------------------------------------- 1.6/56.8 MB 1.3 MB/s eta 0:00:45\n",
      "   - -------------------------------------- 1.8/56.8 MB 853.4 kB/s eta 0:01:05\n",
      "   - -------------------------------------- 1.8/56.8 MB 853.4 kB/s eta 0:01:05\n",
      "   - -------------------------------------- 2.1/56.8 MB 804.5 kB/s eta 0:01:09\n",
      "   - -------------------------------------- 2.1/56.8 MB 804.5 kB/s eta 0:01:09\n",
      "   - -------------------------------------- 2.4/56.8 MB 808.8 kB/s eta 0:01:08\n",
      "   - -------------------------------------- 2.4/56.8 MB 808.8 kB/s eta 0:01:08\n",
      "   - -------------------------------------- 2.4/56.8 MB 808.8 kB/s eta 0:01:08\n",
      "   - -------------------------------------- 2.4/56.8 MB 808.8 kB/s eta 0:01:08\n",
      "   - -------------------------------------- 2.4/56.8 MB 808.8 kB/s eta 0:01:08\n",
      "   - -------------------------------------- 2.4/56.8 MB 808.8 kB/s eta 0:01:08\n",
      "   - -------------------------------------- 2.4/56.8 MB 808.8 kB/s eta 0:01:08\n",
      "   - -------------------------------------- 2.6/56.8 MB 589.8 kB/s eta 0:01:32\n",
      "   - -------------------------------------- 2.6/56.8 MB 589.8 kB/s eta 0:01:32\n",
      "   - -------------------------------------- 2.6/56.8 MB 589.8 kB/s eta 0:01:32\n",
      "   -- ------------------------------------- 2.9/56.8 MB 565.0 kB/s eta 0:01:36\n",
      "   -- ------------------------------------- 2.9/56.8 MB 565.0 kB/s eta 0:01:36\n",
      "   -- ------------------------------------- 2.9/56.8 MB 565.0 kB/s eta 0:01:36\n",
      "   -- ------------------------------------- 2.9/56.8 MB 565.0 kB/s eta 0:01:36\n",
      "   -- ------------------------------------- 2.9/56.8 MB 565.0 kB/s eta 0:01:36\n",
      "   -- ------------------------------------- 2.9/56.8 MB 565.0 kB/s eta 0:01:36\n",
      "   -- ------------------------------------- 3.1/56.8 MB 481.9 kB/s eta 0:01:52\n",
      "   -- ------------------------------------- 3.1/56.8 MB 481.9 kB/s eta 0:01:52\n",
      "   -- ------------------------------------- 3.1/56.8 MB 481.9 kB/s eta 0:01:52\n",
      "   -- ------------------------------------- 3.1/56.8 MB 481.9 kB/s eta 0:01:52\n",
      "   -- ------------------------------------- 3.4/56.8 MB 463.9 kB/s eta 0:01:56\n",
      "   -- ------------------------------------- 3.7/56.8 MB 484.7 kB/s eta 0:01:50\n",
      "   -- ------------------------------------- 3.9/56.8 MB 503.0 kB/s eta 0:01:46\n",
      "   -- ------------------------------------- 3.9/56.8 MB 503.0 kB/s eta 0:01:46\n",
      "   -- ------------------------------------- 4.2/56.8 MB 520.0 kB/s eta 0:01:42\n",
      "   -- ------------------------------------- 4.2/56.8 MB 520.0 kB/s eta 0:01:42\n",
      "   -- ------------------------------------- 4.2/56.8 MB 520.0 kB/s eta 0:01:42\n",
      "   --- ------------------------------------ 4.7/56.8 MB 535.1 kB/s eta 0:01:38\n",
      "   --- ------------------------------------ 5.0/56.8 MB 556.2 kB/s eta 0:01:34\n",
      "   --- ------------------------------------ 5.2/56.8 MB 575.4 kB/s eta 0:01:30\n",
      "   ---- ----------------------------------- 5.8/56.8 MB 616.0 kB/s eta 0:01:23\n",
      "   ---- ----------------------------------- 6.0/56.8 MB 633.1 kB/s eta 0:01:21\n",
      "   ---- ----------------------------------- 6.6/56.8 MB 670.0 kB/s eta 0:01:16\n",
      "   ---- ----------------------------------- 6.8/56.8 MB 685.4 kB/s eta 0:01:13\n",
      "   ---- ----------------------------------- 7.1/56.8 MB 696.8 kB/s eta 0:01:12\n",
      "   ----- ---------------------------------- 7.3/56.8 MB 707.8 kB/s eta 0:01:10\n",
      "   ----- ---------------------------------- 7.6/56.8 MB 722.7 kB/s eta 0:01:09\n",
      "   ----- ---------------------------------- 8.1/56.8 MB 752.4 kB/s eta 0:01:05\n",
      "   ----- ---------------------------------- 8.4/56.8 MB 766.0 kB/s eta 0:01:04\n",
      "   ------ --------------------------------- 8.7/56.8 MB 779.2 kB/s eta 0:01:02\n",
      "   ------ --------------------------------- 8.9/56.8 MB 792.1 kB/s eta 0:01:01\n",
      "   ------ --------------------------------- 9.4/56.8 MB 809.9 kB/s eta 0:00:59\n",
      "   ------ --------------------------------- 9.7/56.8 MB 821.8 kB/s eta 0:00:58\n",
      "   ------- -------------------------------- 10.0/56.8 MB 834.4 kB/s eta 0:00:57\n",
      "   ------- -------------------------------- 10.5/56.8 MB 858.7 kB/s eta 0:00:54\n",
      "   ------- -------------------------------- 10.7/56.8 MB 869.3 kB/s eta 0:00:54\n",
      "   ------- -------------------------------- 11.3/56.8 MB 893.1 kB/s eta 0:00:52\n",
      "   -------- ------------------------------- 11.5/56.8 MB 904.1 kB/s eta 0:00:51\n",
      "   -------- ------------------------------- 12.1/56.8 MB 924.1 kB/s eta 0:00:49\n",
      "   -------- ------------------------------- 12.3/56.8 MB 936.6 kB/s eta 0:00:48\n",
      "   --------- ------------------------------ 12.8/56.8 MB 955.3 kB/s eta 0:00:47\n",
      "   --------- ------------------------------ 13.1/56.8 MB 966.1 kB/s eta 0:00:46\n",
      "   --------- ------------------------------ 13.6/56.8 MB 984.6 kB/s eta 0:00:44\n",
      "   --------- ------------------------------ 14.2/56.8 MB 1.0 MB/s eta 0:00:43\n",
      "   ---------- ----------------------------- 14.4/56.8 MB 1.0 MB/s eta 0:00:42\n",
      "   ---------- ----------------------------- 14.9/56.8 MB 1.0 MB/s eta 0:00:41\n",
      "   ---------- ----------------------------- 15.5/56.8 MB 1.1 MB/s eta 0:00:40\n",
      "   ----------- ---------------------------- 15.7/56.8 MB 1.1 MB/s eta 0:00:39\n",
      "   ----------- ---------------------------- 16.3/56.8 MB 1.1 MB/s eta 0:00:38\n",
      "   ----------- ---------------------------- 16.8/56.8 MB 1.1 MB/s eta 0:00:37\n",
      "   ------------ --------------------------- 17.3/56.8 MB 1.1 MB/s eta 0:00:36\n",
      "   ------------ --------------------------- 17.8/56.8 MB 1.1 MB/s eta 0:00:35\n",
      "   ------------ --------------------------- 18.4/56.8 MB 1.2 MB/s eta 0:00:34\n",
      "   ------------- -------------------------- 18.9/56.8 MB 1.2 MB/s eta 0:00:33\n",
      "   ------------- -------------------------- 19.4/56.8 MB 1.2 MB/s eta 0:00:32\n",
      "   -------------- ------------------------- 19.9/56.8 MB 1.2 MB/s eta 0:00:31\n",
      "   -------------- ------------------------- 20.4/56.8 MB 1.2 MB/s eta 0:00:30\n",
      "   -------------- ------------------------- 21.0/56.8 MB 1.2 MB/s eta 0:00:29\n",
      "   --------------- ------------------------ 21.5/56.8 MB 1.3 MB/s eta 0:00:29\n",
      "   --------------- ------------------------ 22.3/56.8 MB 1.3 MB/s eta 0:00:27\n",
      "   ---------------- ----------------------- 22.8/56.8 MB 1.3 MB/s eta 0:00:27\n",
      "   ---------------- ----------------------- 23.3/56.8 MB 1.3 MB/s eta 0:00:26\n",
      "   ---------------- ----------------------- 23.6/56.8 MB 1.3 MB/s eta 0:00:26\n",
      "   ---------------- ----------------------- 23.6/56.8 MB 1.3 MB/s eta 0:00:26\n",
      "   ---------------- ----------------------- 23.9/56.8 MB 1.3 MB/s eta 0:00:26\n",
      "   ---------------- ----------------------- 24.1/56.8 MB 1.3 MB/s eta 0:00:26\n",
      "   ----------------- ---------------------- 24.6/56.8 MB 1.3 MB/s eta 0:00:25\n",
      "   ----------------- ---------------------- 25.2/56.8 MB 1.3 MB/s eta 0:00:24\n",
      "   ------------------ --------------------- 25.7/56.8 MB 1.3 MB/s eta 0:00:24\n",
      "   ------------------ --------------------- 26.2/56.8 MB 1.3 MB/s eta 0:00:23\n",
      "   ------------------ --------------------- 26.7/56.8 MB 1.4 MB/s eta 0:00:23\n",
      "   ------------------- -------------------- 27.3/56.8 MB 1.4 MB/s eta 0:00:22\n",
      "   ------------------- -------------------- 27.8/56.8 MB 1.4 MB/s eta 0:00:21\n",
      "   -------------------- ------------------- 28.6/56.8 MB 1.4 MB/s eta 0:00:21\n",
      "   -------------------- ------------------- 29.1/56.8 MB 1.4 MB/s eta 0:00:20\n",
      "   -------------------- ------------------- 29.6/56.8 MB 1.4 MB/s eta 0:00:20\n",
      "   --------------------- ------------------ 30.1/56.8 MB 1.4 MB/s eta 0:00:19\n",
      "   --------------------- ------------------ 30.9/56.8 MB 1.5 MB/s eta 0:00:18\n",
      "   ---------------------- ----------------- 31.5/56.8 MB 1.5 MB/s eta 0:00:18\n",
      "   ---------------------- ----------------- 32.2/56.8 MB 1.5 MB/s eta 0:00:17\n",
      "   ----------------------- ---------------- 32.8/56.8 MB 1.5 MB/s eta 0:00:16\n",
      "   ----------------------- ---------------- 33.6/56.8 MB 1.5 MB/s eta 0:00:16\n",
      "   ------------------------ --------------- 34.3/56.8 MB 1.5 MB/s eta 0:00:15\n",
      "   ------------------------ --------------- 34.9/56.8 MB 1.6 MB/s eta 0:00:15\n",
      "   ------------------------- -------------- 35.7/56.8 MB 1.6 MB/s eta 0:00:14\n",
      "   ------------------------- -------------- 36.2/56.8 MB 1.6 MB/s eta 0:00:14\n",
      "   -------------------------- ------------- 37.0/56.8 MB 1.6 MB/s eta 0:00:13\n",
      "   -------------------------- ------------- 37.5/56.8 MB 1.6 MB/s eta 0:00:12\n",
      "   -------------------------- ------------- 38.3/56.8 MB 1.6 MB/s eta 0:00:12\n",
      "   --------------------------- ------------ 39.1/56.8 MB 1.6 MB/s eta 0:00:11\n",
      "   --------------------------- ------------ 39.6/56.8 MB 1.7 MB/s eta 0:00:11\n",
      "   ---------------------------- ----------- 40.1/56.8 MB 1.7 MB/s eta 0:00:11\n",
      "   ---------------------------- ----------- 40.9/56.8 MB 1.7 MB/s eta 0:00:10\n",
      "   ----------------------------- ---------- 41.7/56.8 MB 1.7 MB/s eta 0:00:09\n",
      "   ----------------------------- ---------- 42.2/56.8 MB 1.7 MB/s eta 0:00:09\n",
      "   ------------------------------ --------- 43.0/56.8 MB 1.7 MB/s eta 0:00:09\n",
      "   ------------------------------ --------- 43.8/56.8 MB 1.7 MB/s eta 0:00:08\n",
      "   ------------------------------- -------- 44.3/56.8 MB 1.7 MB/s eta 0:00:08\n",
      "   ------------------------------- -------- 45.1/56.8 MB 1.8 MB/s eta 0:00:07\n",
      "   -------------------------------- ------- 45.6/56.8 MB 1.8 MB/s eta 0:00:07\n",
      "   -------------------------------- ------- 46.1/56.8 MB 1.8 MB/s eta 0:00:06\n",
      "   -------------------------------- ------- 46.1/56.8 MB 1.8 MB/s eta 0:00:06\n",
      "   -------------------------------- ------- 46.4/56.8 MB 1.8 MB/s eta 0:00:06\n",
      "   -------------------------------- ------- 46.4/56.8 MB 1.8 MB/s eta 0:00:06\n",
      "   -------------------------------- ------- 46.7/56.8 MB 1.8 MB/s eta 0:00:06\n",
      "   --------------------------------- ------ 46.9/56.8 MB 1.7 MB/s eta 0:00:06\n",
      "   --------------------------------- ------ 47.4/56.8 MB 1.7 MB/s eta 0:00:06\n",
      "   --------------------------------- ------ 48.0/56.8 MB 1.8 MB/s eta 0:00:06\n",
      "   ---------------------------------- ----- 48.5/56.8 MB 1.8 MB/s eta 0:00:05\n",
      "   ---------------------------------- ----- 49.0/56.8 MB 1.8 MB/s eta 0:00:05\n",
      "   ---------------------------------- ----- 49.5/56.8 MB 1.8 MB/s eta 0:00:05\n",
      "   ----------------------------------- ---- 50.1/56.8 MB 1.8 MB/s eta 0:00:04\n",
      "   ----------------------------------- ---- 50.3/56.8 MB 1.8 MB/s eta 0:00:04\n",
      "   ----------------------------------- ---- 50.9/56.8 MB 1.8 MB/s eta 0:00:04\n",
      "   ------------------------------------ --- 51.4/56.8 MB 1.8 MB/s eta 0:00:04\n",
      "   ------------------------------------ --- 51.9/56.8 MB 1.8 MB/s eta 0:00:03\n",
      "   ------------------------------------ --- 52.4/56.8 MB 1.8 MB/s eta 0:00:03\n",
      "   ------------------------------------- -- 53.0/56.8 MB 1.8 MB/s eta 0:00:03\n",
      "   ------------------------------------- -- 53.5/56.8 MB 1.8 MB/s eta 0:00:02\n",
      "   -------------------------------------- - 54.0/56.8 MB 1.8 MB/s eta 0:00:02\n",
      "   -------------------------------------- - 54.8/56.8 MB 1.8 MB/s eta 0:00:02\n",
      "   -------------------------------------- - 55.3/56.8 MB 1.8 MB/s eta 0:00:01\n",
      "   ---------------------------------------  55.8/56.8 MB 1.8 MB/s eta 0:00:01\n",
      "   ---------------------------------------  56.4/56.8 MB 1.9 MB/s eta 0:00:01\n",
      "   ---------------------------------------- 56.8/56.8 MB 1.9 MB/s eta 0:00:00\n",
      "Installing collected packages: xgboost\n",
      "Successfully installed xgboost-3.0.4\n"
     ]
    }
   ],
   "source": [
    "%pip install xgboost"
   ]
  },
  {
   "cell_type": "code",
   "execution_count": 59,
   "id": "100701f4",
   "metadata": {},
   "outputs": [],
   "source": [
    "from xgboost import XGBClassifier"
   ]
  },
  {
   "cell_type": "code",
   "execution_count": 60,
   "id": "59bf1627",
   "metadata": {},
   "outputs": [],
   "source": [
    "models={\n",
    "    \"random forest\":RandomForestClassifier(),\n",
    "    \"adaboost\":AdaBoostClassifier(),\n",
    "    \"gradient boost\":GradientBoostingClassifier(),\n",
    "    \"xgboost\": XGBClassifier()\n",
    "}"
   ]
  },
  {
   "cell_type": "code",
   "execution_count": 61,
   "id": "48d2c887",
   "metadata": {},
   "outputs": [
    {
     "name": "stdout",
     "output_type": "stream",
     "text": [
      "random forest\n",
      "0.9202453987730062\n",
      "[[783   4]\n",
      " [ 74 117]]\n",
      "==============================\n",
      "              precision    recall  f1-score   support\n",
      "\n",
      "           0       0.91      0.99      0.95       787\n",
      "           1       0.97      0.61      0.75       191\n",
      "\n",
      "    accuracy                           0.92       978\n",
      "   macro avg       0.94      0.80      0.85       978\n",
      "weighted avg       0.92      0.92      0.91       978\n",
      "\n",
      "==============================\n",
      "adaboost\n",
      "0.8353783231083844\n",
      "[[772  15]\n",
      " [146  45]]\n",
      "==============================\n",
      "              precision    recall  f1-score   support\n",
      "\n",
      "           0       0.84      0.98      0.91       787\n",
      "           1       0.75      0.24      0.36       191\n",
      "\n",
      "    accuracy                           0.84       978\n",
      "   macro avg       0.80      0.61      0.63       978\n",
      "weighted avg       0.82      0.84      0.80       978\n",
      "\n",
      "==============================\n",
      "gradient boost\n",
      "0.8588957055214724\n",
      "[[765  22]\n",
      " [116  75]]\n",
      "==============================\n",
      "              precision    recall  f1-score   support\n",
      "\n",
      "           0       0.87      0.97      0.92       787\n",
      "           1       0.77      0.39      0.52       191\n",
      "\n",
      "    accuracy                           0.86       978\n",
      "   macro avg       0.82      0.68      0.72       978\n",
      "weighted avg       0.85      0.86      0.84       978\n",
      "\n",
      "==============================\n",
      "xgboost\n",
      "0.9355828220858896\n",
      "[[780   7]\n",
      " [ 56 135]]\n",
      "==============================\n",
      "              precision    recall  f1-score   support\n",
      "\n",
      "           0       0.93      0.99      0.96       787\n",
      "           1       0.95      0.71      0.81       191\n",
      "\n",
      "    accuracy                           0.94       978\n",
      "   macro avg       0.94      0.85      0.89       978\n",
      "weighted avg       0.94      0.94      0.93       978\n",
      "\n",
      "==============================\n"
     ]
    }
   ],
   "source": [
    "for i in range(len(list(models))):\n",
    "    model=list(models.values())[i]\n",
    "    model.fit(X_train,Y_train)\n",
    "    Y_pred=model.predict(X_test)\n",
    "    a_s=accuracy_score(Y_test,Y_pred)\n",
    "    c_m=confusion_matrix(Y_test,Y_pred)\n",
    "    c_r=classification_report(Y_test,Y_pred)\n",
    "    print(list(models.keys())[i])\n",
    "    print(a_s)\n",
    "    print(c_m)\n",
    "    print(\"=\"*30)\n",
    "    print(c_r)\n",
    "    print(\"=\"*30)"
   ]
  },
  {
   "cell_type": "code",
   "execution_count": null,
   "id": "3d616aa3",
   "metadata": {},
   "outputs": [],
   "source": []
  },
  {
   "cell_type": "code",
   "execution_count": null,
   "id": "4298e37d",
   "metadata": {},
   "outputs": [],
   "source": []
  },
  {
   "cell_type": "code",
   "execution_count": null,
   "id": "08655b7d",
   "metadata": {},
   "outputs": [],
   "source": []
  }
 ],
 "metadata": {
  "kernelspec": {
   "display_name": "ml_class",
   "language": "python",
   "name": "python3"
  },
  "language_info": {
   "codemirror_mode": {
    "name": "ipython",
    "version": 3
   },
   "file_extension": ".py",
   "mimetype": "text/x-python",
   "name": "python",
   "nbconvert_exporter": "python",
   "pygments_lexer": "ipython3",
   "version": "3.10.18"
  }
 },
 "nbformat": 4,
 "nbformat_minor": 5
}
